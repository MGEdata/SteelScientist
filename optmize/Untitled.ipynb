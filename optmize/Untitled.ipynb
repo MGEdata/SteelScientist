{
 "cells": [
  {
   "cell_type": "code",
   "execution_count": 5,
   "id": "8111f73f-a2b4-4496-a81f-52ba07d25040",
   "metadata": {
    "execution": {
     "iopub.execute_input": "2023-12-22T07:21:11.506537Z",
     "iopub.status.busy": "2023-12-22T07:21:11.506537Z",
     "iopub.status.idle": "2023-12-22T07:21:11.522494Z",
     "shell.execute_reply": "2023-12-22T07:21:11.522494Z",
     "shell.execute_reply.started": "2023-12-22T07:21:11.506537Z"
    },
    "tags": []
   },
   "outputs": [],
   "source": [
    "import pandas as pd\n",
    "import numpy as np"
   ]
  },
  {
   "cell_type": "code",
   "execution_count": 7,
   "id": "6a943ba7-f9b8-4988-a26d-010818bfffc9",
   "metadata": {
    "execution": {
     "iopub.execute_input": "2023-12-22T07:21:18.120530Z",
     "iopub.status.busy": "2023-12-22T07:21:18.120530Z",
     "iopub.status.idle": "2023-12-22T07:24:58.276387Z",
     "shell.execute_reply": "2023-12-22T07:24:58.276387Z",
     "shell.execute_reply.started": "2023-12-22T07:21:18.120530Z"
    },
    "tags": []
   },
   "outputs": [],
   "source": [
    "final_df = pd.read_excel(f\"./outputs/temp_gen_processing_space.xlsx\").iloc[:1000, :]"
   ]
  },
  {
   "cell_type": "code",
   "execution_count": null,
   "id": "e7919c82-a8da-4f70-89a6-559745598a72",
   "metadata": {},
   "outputs": [],
   "source": [
    "temp_df = final_df.iloc[:1000, :].copy()"
   ]
  },
  {
   "cell_type": "code",
   "execution_count": 8,
   "id": "7a7c4793-a250-435f-a1f3-68b4085ef890",
   "metadata": {
    "execution": {
     "iopub.execute_input": "2023-12-22T07:25:54.159583Z",
     "iopub.status.busy": "2023-12-22T07:25:54.159583Z",
     "iopub.status.idle": "2023-12-22T07:25:54.170554Z",
     "shell.execute_reply": "2023-12-22T07:25:54.170554Z",
     "shell.execute_reply.started": "2023-12-22T07:25:54.159583Z"
    },
    "tags": []
   },
   "outputs": [
    {
     "data": {
      "text/html": [
       "<div>\n",
       "<style scoped>\n",
       "    .dataframe tbody tr th:only-of-type {\n",
       "        vertical-align: middle;\n",
       "    }\n",
       "\n",
       "    .dataframe tbody tr th {\n",
       "        vertical-align: top;\n",
       "    }\n",
       "\n",
       "    .dataframe thead th {\n",
       "        text-align: right;\n",
       "    }\n",
       "</style>\n",
       "<table border=\"1\" class=\"dataframe\">\n",
       "  <thead>\n",
       "    <tr style=\"text-align: right;\">\n",
       "      <th></th>\n",
       "      <th>ys_pred</th>\n",
       "    </tr>\n",
       "  </thead>\n",
       "  <tbody>\n",
       "    <tr>\n",
       "      <th>0</th>\n",
       "      <td>627.79260</td>\n",
       "    </tr>\n",
       "    <tr>\n",
       "      <th>1</th>\n",
       "      <td>998.72876</td>\n",
       "    </tr>\n",
       "    <tr>\n",
       "      <th>2</th>\n",
       "      <td>627.79260</td>\n",
       "    </tr>\n",
       "    <tr>\n",
       "      <th>3</th>\n",
       "      <td>1490.73510</td>\n",
       "    </tr>\n",
       "    <tr>\n",
       "      <th>4</th>\n",
       "      <td>627.79260</td>\n",
       "    </tr>\n",
       "  </tbody>\n",
       "</table>\n",
       "</div>"
      ],
      "text/plain": [
       "      ys_pred\n",
       "0   627.79260\n",
       "1   998.72876\n",
       "2   627.79260\n",
       "3  1490.73510\n",
       "4   627.79260"
      ]
     },
     "execution_count": 8,
     "metadata": {},
     "output_type": "execute_result"
    }
   ],
   "source": [
    "el_df = pd.read_csv('./outputs/result_el.csv')\n",
    "ys_df = pd.read_csv('./outputs/result_ys.csv')\n",
    "ys_df.head()"
   ]
  },
  {
   "cell_type": "code",
   "execution_count": 13,
   "id": "c6a96a84-8cd2-4087-ba32-c29965319486",
   "metadata": {
    "execution": {
     "iopub.execute_input": "2023-12-22T07:26:41.348307Z",
     "iopub.status.busy": "2023-12-22T07:26:41.347261Z",
     "iopub.status.idle": "2023-12-22T07:26:41.368205Z",
     "shell.execute_reply": "2023-12-22T07:26:41.368205Z",
     "shell.execute_reply.started": "2023-12-22T07:26:41.348307Z"
    },
    "tags": []
   },
   "outputs": [
    {
     "name": "stdout",
     "output_type": "stream",
     "text": [
      "(1000, 59)\n"
     ]
    }
   ],
   "source": [
    "new_df = pd.concat([final_df, ys_df, el_df], axis=1, names=['Yield strength/ MPa', 'Elongation/ %'])\n",
    "print(new_df.shape)"
   ]
  },
  {
   "cell_type": "code",
   "execution_count": 14,
   "id": "f452a4e8-9cb8-4e07-b14a-c6c234b28543",
   "metadata": {
    "execution": {
     "iopub.execute_input": "2023-12-22T07:26:49.623853Z",
     "iopub.status.busy": "2023-12-22T07:26:49.623853Z",
     "iopub.status.idle": "2023-12-22T07:26:49.648785Z",
     "shell.execute_reply": "2023-12-22T07:26:49.648785Z",
     "shell.execute_reply.started": "2023-12-22T07:26:49.623853Z"
    },
    "tags": []
   },
   "outputs": [
    {
     "name": "stdout",
     "output_type": "stream",
     "text": [
      "(838, 59)\n"
     ]
    },
    {
     "data": {
      "text/html": [
       "<div>\n",
       "<style scoped>\n",
       "    .dataframe tbody tr th:only-of-type {\n",
       "        vertical-align: middle;\n",
       "    }\n",
       "\n",
       "    .dataframe tbody tr th {\n",
       "        vertical-align: top;\n",
       "    }\n",
       "\n",
       "    .dataframe thead th {\n",
       "        text-align: right;\n",
       "    }\n",
       "</style>\n",
       "<table border=\"1\" class=\"dataframe\">\n",
       "  <thead>\n",
       "    <tr style=\"text-align: right;\">\n",
       "      <th></th>\n",
       "      <th>Files</th>\n",
       "      <th>DOIs</th>\n",
       "      <th>problem</th>\n",
       "      <th>status</th>\n",
       "      <th>title</th>\n",
       "      <th>abstract</th>\n",
       "      <th>Table_topic</th>\n",
       "      <th>Material</th>\n",
       "      <th>Tensile_name</th>\n",
       "      <th>Tensile_value</th>\n",
       "      <th>...</th>\n",
       "      <th>Ta</th>\n",
       "      <th>W</th>\n",
       "      <th>Pb</th>\n",
       "      <th>Bi</th>\n",
       "      <th>Other_ele</th>\n",
       "      <th>Text</th>\n",
       "      <th>Text_addition</th>\n",
       "      <th>actions</th>\n",
       "      <th>ys_pred</th>\n",
       "      <th>el_pred</th>\n",
       "    </tr>\n",
       "  </thead>\n",
       "  <tbody>\n",
       "    <tr>\n",
       "      <th>0</th>\n",
       "      <td>47.xlsx</td>\n",
       "      <td>2</td>\n",
       "      <td>NaN</td>\n",
       "      <td>1</td>\n",
       "      <td>NaN</td>\n",
       "      <td>怀斌数据</td>\n",
       "      <td>NaN</td>\n",
       "      <td>NaN</td>\n",
       "      <td>NaN</td>\n",
       "      <td>923.00</td>\n",
       "      <td>...</td>\n",
       "      <td>0</td>\n",
       "      <td>0</td>\n",
       "      <td>0</td>\n",
       "      <td>0</td>\n",
       "      <td>NaN</td>\n",
       "      <td>The experimental steel was melted in vacuum in...</td>\n",
       "      <td>NaN</td>\n",
       "      <td>NaN</td>\n",
       "      <td>627.79260</td>\n",
       "      <td>39.288906</td>\n",
       "    </tr>\n",
       "    <tr>\n",
       "      <th>1</th>\n",
       "      <td>47.xlsx</td>\n",
       "      <td>2</td>\n",
       "      <td>NaN</td>\n",
       "      <td>1</td>\n",
       "      <td>NaN</td>\n",
       "      <td>怀斌数据</td>\n",
       "      <td>NaN</td>\n",
       "      <td>NaN</td>\n",
       "      <td>NaN</td>\n",
       "      <td>923.00</td>\n",
       "      <td>...</td>\n",
       "      <td>0</td>\n",
       "      <td>0</td>\n",
       "      <td>0</td>\n",
       "      <td>0</td>\n",
       "      <td>NaN</td>\n",
       "      <td>The experimental steel was melted in vacuum in...</td>\n",
       "      <td>NaN</td>\n",
       "      <td>NaN</td>\n",
       "      <td>998.72876</td>\n",
       "      <td>24.772644</td>\n",
       "    </tr>\n",
       "    <tr>\n",
       "      <th>2</th>\n",
       "      <td>68.xlsx</td>\n",
       "      <td>3</td>\n",
       "      <td>NaN</td>\n",
       "      <td>1</td>\n",
       "      <td>NaN</td>\n",
       "      <td>王昊数据</td>\n",
       "      <td>NaN</td>\n",
       "      <td>NaN</td>\n",
       "      <td>NaN</td>\n",
       "      <td>807.84</td>\n",
       "      <td>...</td>\n",
       "      <td>0</td>\n",
       "      <td>0</td>\n",
       "      <td>0</td>\n",
       "      <td>0</td>\n",
       "      <td>NaN</td>\n",
       "      <td>The experimental steel was melted in vacuum in...</td>\n",
       "      <td>NaN</td>\n",
       "      <td>NaN</td>\n",
       "      <td>627.79260</td>\n",
       "      <td>36.263900</td>\n",
       "    </tr>\n",
       "    <tr>\n",
       "      <th>3</th>\n",
       "      <td>47.xlsx</td>\n",
       "      <td>2</td>\n",
       "      <td>NaN</td>\n",
       "      <td>1</td>\n",
       "      <td>NaN</td>\n",
       "      <td>怀斌数据</td>\n",
       "      <td>NaN</td>\n",
       "      <td>NaN</td>\n",
       "      <td>NaN</td>\n",
       "      <td>923.00</td>\n",
       "      <td>...</td>\n",
       "      <td>0</td>\n",
       "      <td>0</td>\n",
       "      <td>0</td>\n",
       "      <td>0</td>\n",
       "      <td>NaN</td>\n",
       "      <td>The experimental steel was melted in vacuum in...</td>\n",
       "      <td>NaN</td>\n",
       "      <td>NaN</td>\n",
       "      <td>1490.73510</td>\n",
       "      <td>6.889070</td>\n",
       "    </tr>\n",
       "    <tr>\n",
       "      <th>4</th>\n",
       "      <td>68.xlsx</td>\n",
       "      <td>3</td>\n",
       "      <td>NaN</td>\n",
       "      <td>1</td>\n",
       "      <td>NaN</td>\n",
       "      <td>王昊数据</td>\n",
       "      <td>NaN</td>\n",
       "      <td>NaN</td>\n",
       "      <td>NaN</td>\n",
       "      <td>807.84</td>\n",
       "      <td>...</td>\n",
       "      <td>0</td>\n",
       "      <td>0</td>\n",
       "      <td>0</td>\n",
       "      <td>0</td>\n",
       "      <td>NaN</td>\n",
       "      <td>The experimental steel was melted in vacuum in...</td>\n",
       "      <td>NaN</td>\n",
       "      <td>NaN</td>\n",
       "      <td>627.79260</td>\n",
       "      <td>35.441402</td>\n",
       "    </tr>\n",
       "  </tbody>\n",
       "</table>\n",
       "<p>5 rows × 59 columns</p>\n",
       "</div>"
      ],
      "text/plain": [
       "     Files  DOIs  problem  status  title abstract  Table_topic  Material  \\\n",
       "0  47.xlsx     2      NaN       1    NaN     怀斌数据          NaN       NaN   \n",
       "1  47.xlsx     2      NaN       1    NaN     怀斌数据          NaN       NaN   \n",
       "2  68.xlsx     3      NaN       1    NaN     王昊数据          NaN       NaN   \n",
       "3  47.xlsx     2      NaN       1    NaN     怀斌数据          NaN       NaN   \n",
       "4  68.xlsx     3      NaN       1    NaN     王昊数据          NaN       NaN   \n",
       "\n",
       "   Tensile_name  Tensile_value  ...  Ta  W  Pb  Bi  Other_ele  \\\n",
       "0           NaN         923.00  ...   0  0   0   0        NaN   \n",
       "1           NaN         923.00  ...   0  0   0   0        NaN   \n",
       "2           NaN         807.84  ...   0  0   0   0        NaN   \n",
       "3           NaN         923.00  ...   0  0   0   0        NaN   \n",
       "4           NaN         807.84  ...   0  0   0   0        NaN   \n",
       "\n",
       "                                                Text  Text_addition  actions  \\\n",
       "0  The experimental steel was melted in vacuum in...            NaN      NaN   \n",
       "1  The experimental steel was melted in vacuum in...            NaN      NaN   \n",
       "2  The experimental steel was melted in vacuum in...            NaN      NaN   \n",
       "3  The experimental steel was melted in vacuum in...            NaN      NaN   \n",
       "4  The experimental steel was melted in vacuum in...            NaN      NaN   \n",
       "\n",
       "      ys_pred    el_pred  \n",
       "0   627.79260  39.288906  \n",
       "1   998.72876  24.772644  \n",
       "2   627.79260  36.263900  \n",
       "3  1490.73510   6.889070  \n",
       "4   627.79260  35.441402  \n",
       "\n",
       "[5 rows x 59 columns]"
      ]
     },
     "execution_count": 14,
     "metadata": {},
     "output_type": "execute_result"
    }
   ],
   "source": [
    "new_df.drop_duplicates(keep='first', inplace=True, ignore_index=False)\n",
    "print(new_df.shape)\n",
    "new_df.head()"
   ]
  },
  {
   "cell_type": "code",
   "execution_count": 15,
   "id": "1a6dbefd-082d-45b6-b2a8-16be256471c6",
   "metadata": {
    "execution": {
     "iopub.execute_input": "2023-12-22T07:27:14.756638Z",
     "iopub.status.busy": "2023-12-22T07:27:14.756638Z",
     "iopub.status.idle": "2023-12-22T07:27:15.371337Z",
     "shell.execute_reply": "2023-12-22T07:27:15.370553Z",
     "shell.execute_reply.started": "2023-12-22T07:27:14.756638Z"
    }
   },
   "outputs": [],
   "source": [
    "new_df.to_excel('./outputs/final.xlsx')"
   ]
  },
  {
   "cell_type": "code",
   "execution_count": null,
   "id": "3e6e50b5-35e2-4409-aca3-4bbb7dec22b0",
   "metadata": {},
   "outputs": [],
   "source": []
  },
  {
   "cell_type": "code",
   "execution_count": null,
   "id": "56a6c777-40b9-47df-8a67-5902ae08f39b",
   "metadata": {},
   "outputs": [],
   "source": []
  }
 ],
 "metadata": {
  "kernelspec": {
   "display_name": "automl",
   "language": "python",
   "name": "automl"
  },
  "language_info": {
   "codemirror_mode": {
    "name": "ipython",
    "version": 3
   },
   "file_extension": ".py",
   "mimetype": "text/x-python",
   "name": "python",
   "nbconvert_exporter": "python",
   "pygments_lexer": "ipython3",
   "version": "3.9.15"
  }
 },
 "nbformat": 4,
 "nbformat_minor": 5
}
