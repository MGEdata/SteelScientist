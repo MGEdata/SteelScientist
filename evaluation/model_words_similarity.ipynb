{
 "cells": [
  {
   "cell_type": "code",
   "execution_count": 1,
   "id": "a62a6135-b035-4efe-aaa7-fc63705e087b",
   "metadata": {
    "execution": {
     "iopub.execute_input": "2023-11-17T15:12:29.669776Z",
     "iopub.status.busy": "2023-11-17T15:12:29.669776Z",
     "iopub.status.idle": "2023-11-17T15:12:38.891741Z",
     "shell.execute_reply": "2023-11-17T15:12:38.891741Z",
     "shell.execute_reply.started": "2023-11-17T15:12:29.669776Z"
    },
    "tags": []
   },
   "outputs": [
    {
     "name": "stderr",
     "output_type": "stream",
     "text": [
      "NOTE: Redirects are currently not supported in Windows or MacOs.\n",
      "Some weights of the model checkpoint at ./../model_saved/checkpoint-140000 were not used when initializing DebertaV2Model: ['cls.predictions.transform.dense.weight', 'cls.predictions.transform.dense.bias', 'cls.predictions.decoder.bias', 'cls.predictions.bias', 'cls.predictions.transform.LayerNorm.bias', 'cls.predictions.transform.LayerNorm.weight', 'cls.predictions.decoder.weight']\n",
      "- This IS expected if you are initializing DebertaV2Model from the checkpoint of a model trained on another task or with another architecture (e.g. initializing a BertForSequenceClassification model from a BertForPreTraining model).\n",
      "- This IS NOT expected if you are initializing DebertaV2Model from the checkpoint of a model that you expect to be exactly identical (initializing a BertForSequenceClassification model from a BertForSequenceClassification model).\n"
     ]
    }
   ],
   "source": [
    "import torch\n",
    "from torch import nn\n",
    "import random\n",
    "from transformers import AutoConfig, AutoModel, AutoTokenizer\n",
    "from torch import cdist as coss\n",
    "from transformers import AutoTokenizer, DebertaV2ForSequenceClassification, AutoModelForSequenceClassification\n",
    "# from torch.nn.functional import cosine_similarity as coss\n",
    "\n",
    "# # model_name = 'bert-base-uncased'\n",
    "# model_name = 'microsoft/deberta-v3-base'\n",
    "# # model_name = 'm3rg-iitd/matscibert'\n",
    "model_name = './../model_saved/checkpoint-140000'\n",
    "tokenizer = AutoTokenizer.from_pretrained(model_name)\n",
    "model = AutoModel.from_pretrained(model_name)"
   ]
  },
  {
   "cell_type": "code",
   "execution_count": 3,
   "id": "fe1d88ca-20ad-4607-843c-bd457adb8b79",
   "metadata": {
    "execution": {
     "iopub.execute_input": "2023-11-17T15:13:10.842767Z",
     "iopub.status.busy": "2023-11-17T15:13:10.842767Z",
     "iopub.status.idle": "2023-11-17T15:13:10.860720Z",
     "shell.execute_reply": "2023-11-17T15:13:10.860720Z",
     "shell.execute_reply.started": "2023-11-17T15:13:10.842767Z"
    },
    "tags": []
   },
   "outputs": [
    {
     "data": {
      "text/plain": [
       "['▁The',\n",
       " '▁ingots',\n",
       " '▁were',\n",
       " '▁',\n",
       " 'homogenized',\n",
       " '▁at',\n",
       " '▁1250',\n",
       " '▁°C',\n",
       " '▁for',\n",
       " '▁2',\n",
       " '▁',\n",
       " 'h',\n",
       " ',',\n",
       " '▁the',\n",
       " 'n',\n",
       " '▁hot',\n",
       " '▁rolled',\n",
       " '▁to',\n",
       " '▁',\n",
       " 'a',\n",
       " '▁final',\n",
       " '▁thickness',\n",
       " '▁of',\n",
       " '▁4',\n",
       " '▁mm',\n",
       " '▁through',\n",
       " '▁7',\n",
       " '▁passes',\n",
       " '.']"
      ]
     },
     "execution_count": 3,
     "metadata": {},
     "output_type": "execute_result"
    }
   ],
   "source": [
    "tokenizer.tokenize(\"The ingots were homogenized at 1250 °C for 2 h, then hot rolled to a final thickness of 4 mm through 7 passes.\")"
   ]
  },
  {
   "cell_type": "code",
   "execution_count": null,
   "id": "8bc3f6f6-03ff-46c7-ad49-f9b1514f275f",
   "metadata": {},
   "outputs": [],
   "source": []
  },
  {
   "cell_type": "code",
   "execution_count": null,
   "id": "4389bf44-2c07-436a-b96c-2e5f47c3e476",
   "metadata": {},
   "outputs": [],
   "source": []
  },
  {
   "cell_type": "code",
   "execution_count": 10,
   "id": "7c4f5453-e8f2-4ed6-9c4a-676ff2b02ac6",
   "metadata": {
    "execution": {
     "iopub.execute_input": "2023-10-10T13:22:31.201603Z",
     "iopub.status.busy": "2023-10-10T13:22:31.200578Z",
     "iopub.status.idle": "2023-10-10T13:22:31.216535Z",
     "shell.execute_reply": "2023-10-10T13:22:31.216535Z",
     "shell.execute_reply.started": "2023-10-10T13:22:31.201603Z"
    },
    "tags": []
   },
   "outputs": [
    {
     "name": "stdout",
     "output_type": "stream",
     "text": [
      "<class 'torch.Tensor'> torch.Size([32, 3, 512])\n"
     ]
    }
   ],
   "source": [
    "m = nn.MaxPool1d(3)\n",
    "a = torch.rand((32, 3, 512))\n",
    "print(type(a), a.shape)"
   ]
  },
  {
   "cell_type": "code",
   "execution_count": 20,
   "id": "f3dcb4e7-3d3f-40ff-a661-11211b0981b3",
   "metadata": {
    "execution": {
     "iopub.execute_input": "2023-10-10T13:34:24.035800Z",
     "iopub.status.busy": "2023-10-10T13:34:24.034803Z",
     "iopub.status.idle": "2023-10-10T13:34:24.045773Z",
     "shell.execute_reply": "2023-10-10T13:34:24.045773Z",
     "shell.execute_reply.started": "2023-10-10T13:34:24.035800Z"
    },
    "tags": []
   },
   "outputs": [
    {
     "name": "stdout",
     "output_type": "stream",
     "text": [
      "hello\n"
     ]
    }
   ],
   "source": [
    "if isinstance(a, torch.Tensor):\n",
    "    print('hello')"
   ]
  },
  {
   "cell_type": "code",
   "execution_count": 21,
   "id": "de342a38-eb33-4ab0-93d0-d5a7beea6225",
   "metadata": {
    "execution": {
     "iopub.execute_input": "2023-10-10T13:34:30.782123Z",
     "iopub.status.busy": "2023-10-10T13:34:30.782123Z",
     "iopub.status.idle": "2023-10-10T13:34:30.794089Z",
     "shell.execute_reply": "2023-10-10T13:34:30.794089Z",
     "shell.execute_reply.started": "2023-10-10T13:34:30.782123Z"
    }
   },
   "outputs": [
    {
     "data": {
      "text/plain": [
       "[1, 2, 3]"
      ]
     },
     "execution_count": 21,
     "metadata": {},
     "output_type": "execute_result"
    }
   ],
   "source": [
    "np.array([1,2,3]).tolist()"
   ]
  },
  {
   "cell_type": "code",
   "execution_count": null,
   "id": "25a4d655-f514-4f27-b4b6-f6008c84db76",
   "metadata": {},
   "outputs": [],
   "source": []
  },
  {
   "cell_type": "code",
   "execution_count": 32,
   "id": "56a6b371-edd2-48e4-a3fd-042fde256b05",
   "metadata": {
    "execution": {
     "iopub.execute_input": "2023-10-10T13:59:38.485026Z",
     "iopub.status.busy": "2023-10-10T13:59:38.484028Z",
     "iopub.status.idle": "2023-10-10T13:59:38.555836Z",
     "shell.execute_reply": "2023-10-10T13:59:38.555836Z",
     "shell.execute_reply.started": "2023-10-10T13:59:38.485026Z"
    },
    "tags": []
   },
   "outputs": [],
   "source": [
    "import numpy as np\n",
    "import pandas as pd\n",
    "\n",
    "y_train = np.array([1,2,3,8,9,5,5])\n",
    "y_train_preds = np.array([1,2,3,8,9,5,5])\n",
    "\n",
    "y_val = np.array([1,2,3,4])\n",
    "y_val_preds = np.array([1,2,3,4])\n",
    "\n",
    "plot_best_text_y = np.array([1,2,3,4])\n",
    "plot_best_text_preds = np.array([1,2,3,4])\n",
    "\n",
    "plot_best_exp_y = np.array([1,2,3,4])\n",
    "plot_best_exp_preds = np.array([1,2,3,4])\n",
    "\n",
    "y_train = y_train.tolist()\n",
    "y_train_preds = y_train_preds.tolist()\n",
    "\n",
    "y_val = y_val.tolist()\n",
    "y_val_preds = y_val_preds.tolist()\n",
    "\n",
    "plot_best_text_y = plot_best_text_y.tolist()\n",
    "plot_best_text_preds = plot_best_text_preds.tolist()\n",
    "\n",
    "plot_best_exp_y = plot_best_exp_y.tolist()\n",
    "plot_best_exp_preds = plot_best_exp_preds.tolist()\n",
    "\n",
    "max_len = len(y_train)\n",
    "\n",
    "y_val = y_val + [6666.0 for i in range(max_len-len(y_val))]\n",
    "y_val_preds = y_val_preds + [6666.0 for i in range(max_len-len(y_val_preds))]\n",
    "plot_best_text_y = plot_best_text_y + [6666.0 for i in range(max_len-len(plot_best_text_y))]\n",
    "plot_best_text_preds = plot_best_text_preds + [6666.0 for i in range(max_len-len(plot_best_text_preds))]\n",
    "plot_best_exp_y = plot_best_exp_y + [6666.0 for i in range(max_len-len(plot_best_exp_y))]\n",
    "plot_best_exp_preds = plot_best_exp_preds + [6666.0 for i in range(max_len-len(plot_best_exp_preds))]\n",
    "\n",
    "plot_result = pd.DataFrame({\n",
    "    'y_train':y_train,\n",
    "    'y_train_preds':y_train_preds,\n",
    "    'y_val':y_val,\n",
    "    'y_val_preds':y_val_preds,\n",
    "    'plot_best_text_y':plot_best_text_y,\n",
    "    'text_preds':plot_best_text_preds,\n",
    "    'exp_y':plot_best_exp_y,\n",
    "    'exp_preds':plot_best_exp_preds\n",
    "})\n",
    "\n",
    "plot_result.to_excel(f\"./test_preds.xlsx\", index=None)"
   ]
  },
  {
   "cell_type": "code",
   "execution_count": null,
   "id": "519c396e-4f9a-4828-9747-f2f15b3c381a",
   "metadata": {},
   "outputs": [],
   "source": []
  },
  {
   "cell_type": "code",
   "execution_count": 28,
   "id": "29a23252-2e51-43e4-b464-b31ffe534228",
   "metadata": {
    "execution": {
     "iopub.execute_input": "2023-10-10T13:49:30.096610Z",
     "iopub.status.busy": "2023-10-10T13:49:30.096610Z",
     "iopub.status.idle": "2023-10-10T13:49:30.113564Z",
     "shell.execute_reply": "2023-10-10T13:49:30.113564Z",
     "shell.execute_reply.started": "2023-10-10T13:49:30.096610Z"
    }
   },
   "outputs": [
    {
     "data": {
      "text/plain": [
       "3"
      ]
     },
     "execution_count": 28,
     "metadata": {},
     "output_type": "execute_result"
    }
   ],
   "source": [
    "len(y_train)"
   ]
  },
  {
   "cell_type": "code",
   "execution_count": null,
   "id": "32f65594-3bfb-4ced-920b-523a00fddf1c",
   "metadata": {},
   "outputs": [],
   "source": []
  },
  {
   "cell_type": "code",
   "execution_count": null,
   "id": "00782abc-11bc-4ee9-bebe-e09062ee7dcb",
   "metadata": {},
   "outputs": [],
   "source": []
  },
  {
   "cell_type": "code",
   "execution_count": 31,
   "id": "68b35196-e8d6-4b01-8245-7e308fbf63d3",
   "metadata": {
    "execution": {
     "iopub.execute_input": "2023-10-10T13:51:22.016715Z",
     "iopub.status.busy": "2023-10-10T13:51:22.016715Z",
     "iopub.status.idle": "2023-10-10T13:51:22.031676Z",
     "shell.execute_reply": "2023-10-10T13:51:22.031676Z",
     "shell.execute_reply.started": "2023-10-10T13:51:22.016715Z"
    },
    "tags": []
   },
   "outputs": [
    {
     "data": {
      "text/html": [
       "<div>\n",
       "<style scoped>\n",
       "    .dataframe tbody tr th:only-of-type {\n",
       "        vertical-align: middle;\n",
       "    }\n",
       "\n",
       "    .dataframe tbody tr th {\n",
       "        vertical-align: top;\n",
       "    }\n",
       "\n",
       "    .dataframe thead th {\n",
       "        text-align: right;\n",
       "    }\n",
       "</style>\n",
       "<table border=\"1\" class=\"dataframe\">\n",
       "  <thead>\n",
       "    <tr style=\"text-align: right;\">\n",
       "      <th></th>\n",
       "      <th>y_train</th>\n",
       "      <th>y_train_preds</th>\n",
       "      <th>y_val</th>\n",
       "      <th>y_val_preds</th>\n",
       "      <th>plot_best_text_y</th>\n",
       "      <th>text_preds</th>\n",
       "      <th>exp_y</th>\n",
       "      <th>exp_preds</th>\n",
       "    </tr>\n",
       "  </thead>\n",
       "  <tbody>\n",
       "    <tr>\n",
       "      <th>0</th>\n",
       "      <td>1</td>\n",
       "      <td>1</td>\n",
       "      <td>1.0</td>\n",
       "      <td>1.0</td>\n",
       "      <td>1.0</td>\n",
       "      <td>1.0</td>\n",
       "      <td>1.0</td>\n",
       "      <td>1.0</td>\n",
       "    </tr>\n",
       "    <tr>\n",
       "      <th>1</th>\n",
       "      <td>2</td>\n",
       "      <td>2</td>\n",
       "      <td>2.0</td>\n",
       "      <td>2.0</td>\n",
       "      <td>2.0</td>\n",
       "      <td>2.0</td>\n",
       "      <td>2.0</td>\n",
       "      <td>2.0</td>\n",
       "    </tr>\n",
       "    <tr>\n",
       "      <th>2</th>\n",
       "      <td>3</td>\n",
       "      <td>3</td>\n",
       "      <td>3.0</td>\n",
       "      <td>3.0</td>\n",
       "      <td>3.0</td>\n",
       "      <td>3.0</td>\n",
       "      <td>3.0</td>\n",
       "      <td>3.0</td>\n",
       "    </tr>\n",
       "    <tr>\n",
       "      <th>3</th>\n",
       "      <td>8</td>\n",
       "      <td>8</td>\n",
       "      <td>4.0</td>\n",
       "      <td>4.0</td>\n",
       "      <td>4.0</td>\n",
       "      <td>4.0</td>\n",
       "      <td>4.0</td>\n",
       "      <td>4.0</td>\n",
       "    </tr>\n",
       "    <tr>\n",
       "      <th>4</th>\n",
       "      <td>9</td>\n",
       "      <td>9</td>\n",
       "      <td>6666.0</td>\n",
       "      <td>6666.0</td>\n",
       "      <td>6666.0</td>\n",
       "      <td>6666.0</td>\n",
       "      <td>6666.0</td>\n",
       "      <td>6666.0</td>\n",
       "    </tr>\n",
       "    <tr>\n",
       "      <th>5</th>\n",
       "      <td>5</td>\n",
       "      <td>5</td>\n",
       "      <td>6666.0</td>\n",
       "      <td>6666.0</td>\n",
       "      <td>6666.0</td>\n",
       "      <td>6666.0</td>\n",
       "      <td>6666.0</td>\n",
       "      <td>6666.0</td>\n",
       "    </tr>\n",
       "    <tr>\n",
       "      <th>6</th>\n",
       "      <td>5</td>\n",
       "      <td>5</td>\n",
       "      <td>6666.0</td>\n",
       "      <td>6666.0</td>\n",
       "      <td>6666.0</td>\n",
       "      <td>6666.0</td>\n",
       "      <td>6666.0</td>\n",
       "      <td>6666.0</td>\n",
       "    </tr>\n",
       "  </tbody>\n",
       "</table>\n",
       "</div>"
      ],
      "text/plain": [
       "   y_train  y_train_preds   y_val  y_val_preds  plot_best_text_y  text_preds  \\\n",
       "0        1              1     1.0          1.0               1.0         1.0   \n",
       "1        2              2     2.0          2.0               2.0         2.0   \n",
       "2        3              3     3.0          3.0               3.0         3.0   \n",
       "3        8              8     4.0          4.0               4.0         4.0   \n",
       "4        9              9  6666.0       6666.0            6666.0      6666.0   \n",
       "5        5              5  6666.0       6666.0            6666.0      6666.0   \n",
       "6        5              5  6666.0       6666.0            6666.0      6666.0   \n",
       "\n",
       "    exp_y  exp_preds  \n",
       "0     1.0        1.0  \n",
       "1     2.0        2.0  \n",
       "2     3.0        3.0  \n",
       "3     4.0        4.0  \n",
       "4  6666.0     6666.0  \n",
       "5  6666.0     6666.0  \n",
       "6  6666.0     6666.0  "
      ]
     },
     "execution_count": 31,
     "metadata": {},
     "output_type": "execute_result"
    }
   ],
   "source": [
    "pd.DataFrame({\n",
    "    'y_train':y_train,\n",
    "    'y_train_preds':y_train_preds,\n",
    "    'y_val':y_val,\n",
    "    'y_val_preds':y_val_preds,\n",
    "    'plot_best_text_y':plot_best_text_y,\n",
    "    'text_preds':plot_best_text_preds,\n",
    "    'exp_y':plot_best_exp_y,\n",
    "    'exp_preds':plot_best_exp_preds\n",
    "})"
   ]
  },
  {
   "cell_type": "code",
   "execution_count": null,
   "id": "c851a430-a655-4fd3-a875-b9f2e199bdfa",
   "metadata": {},
   "outputs": [],
   "source": []
  },
  {
   "cell_type": "code",
   "execution_count": null,
   "id": "8582e7e0-249b-479f-ae9d-e77f9b1178b7",
   "metadata": {},
   "outputs": [],
   "source": [
    "plot_best_text_y = plot_best_text_y.tolist()\n",
    "plot_best_text_preds = plot_best_text_preds.tolist()\n",
    "\n",
    "plot_best_exp_y = plot_best_exp_y.tolist()\n",
    "plot_best_exp_preds = plot_best_exp_preds.tolist()"
   ]
  },
  {
   "cell_type": "code",
   "execution_count": null,
   "id": "05337c9c-d6fd-4549-9b89-13bf22aa3d62",
   "metadata": {},
   "outputs": [],
   "source": []
  },
  {
   "cell_type": "code",
   "execution_count": null,
   "id": "573bdf06-8b35-4531-99ce-5b9a23c62276",
   "metadata": {},
   "outputs": [],
   "source": []
  },
  {
   "cell_type": "code",
   "execution_count": null,
   "id": "a54249ff-5dc1-4fb2-a6f0-5d9c17fc6c9e",
   "metadata": {},
   "outputs": [],
   "source": []
  },
  {
   "cell_type": "code",
   "execution_count": null,
   "id": "2c116240-3a90-4935-80b5-8f7ad3e672c7",
   "metadata": {},
   "outputs": [],
   "source": []
  },
  {
   "cell_type": "code",
   "execution_count": null,
   "id": "050f6506-9a87-467f-bf25-601c21bfd9ac",
   "metadata": {},
   "outputs": [],
   "source": []
  },
  {
   "cell_type": "code",
   "execution_count": null,
   "id": "9a78c4bb-ecd9-4c5e-9d3a-b959aac9254a",
   "metadata": {},
   "outputs": [],
   "source": []
  },
  {
   "cell_type": "code",
   "execution_count": 9,
   "id": "7f804747-d93c-420d-9cb9-755bffad8f4f",
   "metadata": {
    "execution": {
     "iopub.execute_input": "2023-10-10T12:32:13.366760Z",
     "iopub.status.busy": "2023-10-10T12:32:13.366760Z",
     "iopub.status.idle": "2023-10-10T12:32:13.383713Z",
     "shell.execute_reply": "2023-10-10T12:32:13.383713Z",
     "shell.execute_reply.started": "2023-10-10T12:32:13.366760Z"
    },
    "tags": []
   },
   "outputs": [
    {
     "data": {
      "text/plain": [
       "tensor([[[0.5959, 0.8860, 0.7837,  ..., 0.8707, 0.9053, 0.4169],\n",
       "         [0.9552, 0.9554, 0.6312,  ..., 0.5201, 0.7477, 0.7594],\n",
       "         [0.8800, 0.6271, 0.6936,  ..., 0.6894, 0.9080, 0.9062]],\n",
       "\n",
       "        [[0.7379, 0.9612, 0.5960,  ..., 0.8998, 0.6183, 0.9217],\n",
       "         [0.1391, 0.4892, 0.8807,  ..., 0.9717, 0.7012, 0.8975],\n",
       "         [0.9542, 0.3861, 0.7734,  ..., 0.9592, 0.7206, 0.4143]],\n",
       "\n",
       "        [[0.7508, 0.9231, 0.9984,  ..., 0.9767, 0.5142, 0.8203],\n",
       "         [0.9102, 0.9985, 0.7425,  ..., 0.4172, 0.3093, 0.5437],\n",
       "         [0.4984, 0.9878, 0.6646,  ..., 0.8639, 0.9838, 0.9096]],\n",
       "\n",
       "        ...,\n",
       "\n",
       "        [[0.5103, 0.9707, 0.9005,  ..., 0.6180, 0.8478, 0.9414],\n",
       "         [0.5684, 0.9760, 0.9744,  ..., 0.8820, 0.9478, 0.3601],\n",
       "         [0.9295, 0.7246, 0.6838,  ..., 0.8547, 0.6498, 0.6249]],\n",
       "\n",
       "        [[0.9236, 0.7588, 0.7937,  ..., 0.3060, 0.7578, 0.9948],\n",
       "         [0.7690, 0.7608, 0.9139,  ..., 0.7017, 0.9740, 0.5370],\n",
       "         [0.8955, 0.9404, 0.4806,  ..., 0.4686, 0.6223, 0.9150]],\n",
       "\n",
       "        [[0.9898, 0.6551, 0.7497,  ..., 0.6236, 0.7571, 0.3981],\n",
       "         [0.5587, 0.7491, 0.9525,  ..., 0.5799, 0.9288, 0.7558],\n",
       "         [0.9441, 0.5096, 0.8767,  ..., 0.2738, 0.7918, 0.1892]]])"
      ]
     },
     "execution_count": 9,
     "metadata": {},
     "output_type": "execute_result"
    }
   ],
   "source": [
    "m(a)"
   ]
  },
  {
   "cell_type": "code",
   "execution_count": null,
   "id": "b43f62d7-e6a8-47f6-8f60-4c55c138b1c6",
   "metadata": {},
   "outputs": [],
   "source": []
  },
  {
   "cell_type": "code",
   "execution_count": 17,
   "id": "67725b0f-e37c-4343-a803-59804f90a1bb",
   "metadata": {
    "execution": {
     "iopub.execute_input": "2023-10-10T08:08:01.969100Z",
     "iopub.status.busy": "2023-10-10T08:08:01.969100Z",
     "iopub.status.idle": "2023-10-10T08:08:01.977079Z",
     "shell.execute_reply": "2023-10-10T08:08:01.977079Z",
     "shell.execute_reply.started": "2023-10-10T08:08:01.969100Z"
    },
    "tags": []
   },
   "outputs": [
    {
     "data": {
      "text/plain": [
       "torch.Size([3, 3, 7])"
      ]
     },
     "execution_count": 17,
     "metadata": {},
     "output_type": "execute_result"
    }
   ],
   "source": [
    "a = b = c = torch.rand((3, 7)).unsqueeze(1)\n",
    "torch.concat([a, b,c ], dim=1).shape"
   ]
  },
  {
   "cell_type": "code",
   "execution_count": null,
   "id": "648fade2-321e-4e55-b42e-81b59c312b2e",
   "metadata": {},
   "outputs": [],
   "source": []
  },
  {
   "cell_type": "code",
   "execution_count": null,
   "id": "848f31d8-4bd6-4383-b99b-83cba22ea840",
   "metadata": {},
   "outputs": [],
   "source": []
  },
  {
   "cell_type": "code",
   "execution_count": null,
   "id": "db6a465c-d48a-4da7-a3bd-0215f11f482d",
   "metadata": {},
   "outputs": [],
   "source": []
  },
  {
   "cell_type": "code",
   "execution_count": null,
   "id": "e00f5658-05f5-4c80-96b6-3e468c1151ec",
   "metadata": {},
   "outputs": [],
   "source": []
  },
  {
   "cell_type": "code",
   "execution_count": 2,
   "id": "acced4f1-afa9-449d-a783-f5c4174fa0b7",
   "metadata": {
    "execution": {
     "iopub.execute_input": "2023-10-10T04:02:40.229030Z",
     "iopub.status.busy": "2023-10-10T04:02:40.228034Z",
     "iopub.status.idle": "2023-10-10T04:02:40.243990Z",
     "shell.execute_reply": "2023-10-10T04:02:40.242992Z",
     "shell.execute_reply.started": "2023-10-10T04:02:40.229030Z"
    },
    "tags": []
   },
   "outputs": [],
   "source": [
    "# from torch.nn.utils.rnn import pad_sequence\n",
    "# a = torch.rand(3, 3)\n",
    "# b = torch.rand(2, 3)\n",
    "# c = torch.rand(1, 3)\n",
    "# pad_sequence([a, b, c]).size()"
   ]
  },
  {
   "cell_type": "code",
   "execution_count": 3,
   "id": "e0022bde-28dc-4866-b1ed-642c633ddf98",
   "metadata": {
    "execution": {
     "iopub.execute_input": "2023-10-10T04:02:40.244987Z",
     "iopub.status.busy": "2023-10-10T04:02:40.244987Z",
     "iopub.status.idle": "2023-10-10T04:02:40.258949Z",
     "shell.execute_reply": "2023-10-10T04:02:40.258949Z",
     "shell.execute_reply.started": "2023-10-10T04:02:40.244987Z"
    },
    "tags": []
   },
   "outputs": [],
   "source": [
    "def set_global_seed(seed=123):\n",
    "    # for Tensorflow\n",
    "    try:\n",
    "        import tensorflow as tf\n",
    "    except ImportError:\n",
    "        pass\n",
    "    else:\n",
    "        tf.random.set_seed(seed)\n",
    "        tf.experimental.numpy.random.seed(seed)\n",
    "        tf.set_random_seed(seed)\n",
    "        # When running on the CuDNN backend, two further options must be set\n",
    "        os.environ['TF_CUDNN_DETERMINISTIC'] = '1'\n",
    "        os.environ['TF_DETERMINISTIC_OPS'] = '1'\n",
    "\n",
    "    # for PyTorch\n",
    "    torch.manual_seed(seed)\n",
    "    if torch.cuda.is_available():\n",
    "        torch.cuda.manual_seed_all(seed)\n",
    "    np.random.seed(seed)\n",
    "    random.seed(seed)\n",
    "    # When running on the CuDNN backend, two further options must be set\n",
    "    torch.backends.cudnn.deterministic = True\n",
    "    torch.backends.cudnn.benchmark = False\n",
    "    # Set a fixed value for the hash seed\n",
    "    os.environ[\"PYTHONHASHSEED\"] = str(seed)"
   ]
  },
  {
   "cell_type": "code",
   "execution_count": 4,
   "id": "91cd4b46-84e6-40b3-b78a-0fb31c78021a",
   "metadata": {
    "execution": {
     "iopub.execute_input": "2023-10-10T04:02:40.306821Z",
     "iopub.status.busy": "2023-10-10T04:02:40.306821Z",
     "iopub.status.idle": "2023-10-10T04:02:40.320784Z",
     "shell.execute_reply": "2023-10-10T04:02:40.320784Z",
     "shell.execute_reply.started": "2023-10-10T04:02:40.306821Z"
    },
    "tags": []
   },
   "outputs": [
    {
     "name": "stdout",
     "output_type": "stream",
     "text": [
      "[8, 6, 2, 4, 5, 3, 1, 9, 7]\n",
      "[2, 8, 4, 7, 1, 6, 5, 3, 9]\n"
     ]
    }
   ],
   "source": [
    "ids = [1,2,3,4,5,6,7,8,9]\n",
    "random.seed(0)\n",
    "for i in range(2):\n",
    "    random.shuffle(ids)\n",
    "    print(ids)"
   ]
  },
  {
   "cell_type": "code",
   "execution_count": null,
   "id": "40180b28-f266-4e8c-b746-3a3ac89bac92",
   "metadata": {},
   "outputs": [],
   "source": [
    "[8, 6, 2, 4, 5, 3, 1, 9, 7]\n",
    "[2, 8, 4, 7, 1, 6, 5, 3, 9]\n"
   ]
  },
  {
   "cell_type": "code",
   "execution_count": 8,
   "id": "6f9b19e2-7cbb-4dca-8e8b-d1923fd2fd17",
   "metadata": {
    "execution": {
     "iopub.execute_input": "2023-10-07T03:30:29.711265Z",
     "iopub.status.busy": "2023-10-07T03:30:29.710267Z",
     "iopub.status.idle": "2023-10-07T03:30:29.720240Z",
     "shell.execute_reply": "2023-10-07T03:30:29.720240Z",
     "shell.execute_reply.started": "2023-10-07T03:30:29.711265Z"
    },
    "tags": []
   },
   "outputs": [
    {
     "data": {
      "text/plain": [
       "tensor([[0.5968, 0.4643, 0.0421],\n",
       "        [0.9798, 0.1801, 0.5089],\n",
       "        [0.4546, 0.3708, 0.7303]])"
      ]
     },
     "execution_count": 8,
     "metadata": {},
     "output_type": "execute_result"
    }
   ],
   "source": [
    "a"
   ]
  },
  {
   "cell_type": "code",
   "execution_count": 9,
   "id": "f553a1dc-8d0f-49ef-8ddb-67b64038be9e",
   "metadata": {
    "execution": {
     "iopub.execute_input": "2023-10-07T03:30:30.882135Z",
     "iopub.status.busy": "2023-10-07T03:30:30.882135Z",
     "iopub.status.idle": "2023-10-07T03:30:30.896097Z",
     "shell.execute_reply": "2023-10-07T03:30:30.896097Z",
     "shell.execute_reply.started": "2023-10-07T03:30:30.882135Z"
    },
    "tags": []
   },
   "outputs": [
    {
     "data": {
      "text/plain": [
       "tensor([[0.4655, 0.1563, 0.3816],\n",
       "        [0.0399, 0.7582, 0.1021]])"
      ]
     },
     "execution_count": 9,
     "metadata": {},
     "output_type": "execute_result"
    }
   ],
   "source": [
    "b"
   ]
  },
  {
   "cell_type": "code",
   "execution_count": 10,
   "id": "2a1a95bf-97a7-422a-a7a0-831eed8e7dd8",
   "metadata": {
    "execution": {
     "iopub.execute_input": "2023-10-07T03:30:31.946289Z",
     "iopub.status.busy": "2023-10-07T03:30:31.945292Z",
     "iopub.status.idle": "2023-10-07T03:30:31.958256Z",
     "shell.execute_reply": "2023-10-07T03:30:31.958256Z",
     "shell.execute_reply.started": "2023-10-07T03:30:31.946289Z"
    },
    "tags": []
   },
   "outputs": [
    {
     "data": {
      "text/plain": [
       "tensor([[0.1049, 0.0707, 0.9922]])"
      ]
     },
     "execution_count": 10,
     "metadata": {},
     "output_type": "execute_result"
    }
   ],
   "source": [
    "c"
   ]
  },
  {
   "cell_type": "code",
   "execution_count": 11,
   "id": "addd9505-ad48-409c-91ee-2ed5c2d1ed9e",
   "metadata": {
    "execution": {
     "iopub.execute_input": "2023-10-07T03:30:42.876074Z",
     "iopub.status.busy": "2023-10-07T03:30:42.875077Z",
     "iopub.status.idle": "2023-10-07T03:30:42.885051Z",
     "shell.execute_reply": "2023-10-07T03:30:42.885051Z",
     "shell.execute_reply.started": "2023-10-07T03:30:42.876074Z"
    },
    "tags": []
   },
   "outputs": [
    {
     "data": {
      "text/plain": [
       "tensor([[[0.5968, 0.4643, 0.0421],\n",
       "         [0.4655, 0.1563, 0.3816],\n",
       "         [0.1049, 0.0707, 0.9922]],\n",
       "\n",
       "        [[0.9798, 0.1801, 0.5089],\n",
       "         [0.0399, 0.7582, 0.1021],\n",
       "         [0.0000, 0.0000, 0.0000]],\n",
       "\n",
       "        [[0.4546, 0.3708, 0.7303],\n",
       "         [0.0000, 0.0000, 0.0000],\n",
       "         [0.0000, 0.0000, 0.0000]]])"
      ]
     },
     "execution_count": 11,
     "metadata": {},
     "output_type": "execute_result"
    }
   ],
   "source": [
    "pad_sequence([a, b, c])"
   ]
  },
  {
   "cell_type": "code",
   "execution_count": null,
   "id": "2cba58bd-6573-4122-a886-ef00a25874c2",
   "metadata": {},
   "outputs": [],
   "source": []
  },
  {
   "cell_type": "code",
   "execution_count": null,
   "id": "c8ea9e57-48b4-416c-a6d0-9c0ac4480ef2",
   "metadata": {},
   "outputs": [],
   "source": []
  },
  {
   "cell_type": "code",
   "execution_count": 49,
   "id": "80c52345-537e-4165-83df-2f31a7b53bee",
   "metadata": {
    "execution": {
     "iopub.execute_input": "2023-10-05T11:50:40.959478Z",
     "iopub.status.busy": "2023-10-05T11:50:40.959478Z",
     "iopub.status.idle": "2023-10-05T11:50:42.666554Z",
     "shell.execute_reply": "2023-10-05T11:50:42.666554Z",
     "shell.execute_reply.started": "2023-10-05T11:50:40.959478Z"
    },
    "tags": []
   },
   "outputs": [
    {
     "name": "stderr",
     "output_type": "stream",
     "text": [
      "Some weights of the model checkpoint at ./../model_saved/checkpoint-140000 were not used when initializing DebertaV2Model: ['cls.predictions.transform.LayerNorm.bias', 'cls.predictions.transform.dense.bias', 'cls.predictions.decoder.bias', 'cls.predictions.transform.LayerNorm.weight', 'cls.predictions.bias', 'cls.predictions.decoder.weight', 'cls.predictions.transform.dense.weight']\n",
      "- This IS expected if you are initializing DebertaV2Model from the checkpoint of a model trained on another task or with another architecture (e.g. initializing a BertForSequenceClassification model from a BertForPreTraining model).\n",
      "- This IS NOT expected if you are initializing DebertaV2Model from the checkpoint of a model that you expect to be exactly identical (initializing a BertForSequenceClassification model from a BertForSequenceClassification model).\n"
     ]
    }
   ],
   "source": [
    "# model_name = 'bert-base-uncased'\n",
    "# model_name = 'microsoft/deberta-v3-base'\n",
    "# model_name = 'm3rg-iitd/matscibert'\n",
    "model_name = './../model_saved/checkpoint-140000'\n",
    "tokenizer = AutoTokenizer.from_pretrained(model_name)\n",
    "model = AutoModel.from_pretrained(model_name)\n",
    "\n",
    "# for name, param in model.named_parameters():\n",
    "#     # print(type(name), name)\n",
    "#     if 'pooler' in name:\n",
    "#         print('hello')\n",
    "#         break"
   ]
  },
  {
   "cell_type": "code",
   "execution_count": 50,
   "id": "3ba4e3d1-5f69-487e-a13e-909a7257c91f",
   "metadata": {
    "execution": {
     "iopub.execute_input": "2023-10-05T11:50:43.973354Z",
     "iopub.status.busy": "2023-10-05T11:50:43.973354Z",
     "iopub.status.idle": "2023-10-05T11:50:43.982330Z",
     "shell.execute_reply": "2023-10-05T11:50:43.982330Z",
     "shell.execute_reply.started": "2023-10-05T11:50:43.973354Z"
    },
    "tags": []
   },
   "outputs": [],
   "source": [
    "def get_embeddings(text):\n",
    "    encoded_input = tokenizer(text, padding=True, truncation=False, return_tensors=\"pt\")\n",
    "    model_output = model(**encoded_input)\n",
    "    if 'pooler_output' in model_output.keys():\n",
    "        return model_output['pooler_output']\n",
    "    else:\n",
    "        return model_output['last_hidden_state']"
   ]
  },
  {
   "cell_type": "code",
   "execution_count": null,
   "id": "5432a185-8991-45f7-bede-2d9ba59e5361",
   "metadata": {},
   "outputs": [],
   "source": []
  },
  {
   "cell_type": "code",
   "execution_count": 52,
   "id": "1940d260-7b2e-47e9-aa9a-43f0c9187de6",
   "metadata": {
    "execution": {
     "iopub.execute_input": "2023-10-05T11:51:12.979291Z",
     "iopub.status.busy": "2023-10-05T11:51:12.978293Z",
     "iopub.status.idle": "2023-10-05T11:51:12.996245Z",
     "shell.execute_reply": "2023-10-05T11:51:12.996245Z",
     "shell.execute_reply.started": "2023-10-05T11:51:12.979291Z"
    },
    "tags": []
   },
   "outputs": [
    {
     "data": {
      "text/plain": [
       "89"
      ]
     },
     "execution_count": 52,
     "metadata": {},
     "output_type": "execute_result"
    }
   ],
   "source": [
    "text = 'The experimental steel was melted in vacuum induction melting furnace at first, and then hot-forged. After Some small plates were cut from the as-received hot forged plate, and then solution-treated at 1050 °C for 4 h. The solution-treated specimen was cold rolled to a thickness reduction of 57%. The the cold rolled specimen was performed by tempering at temperature of 590 °C for 60 min, followed by air cooling to room temperature.'\n",
    "len(tokenizer.tokenize(text, add_special_tokens=True))"
   ]
  },
  {
   "cell_type": "code",
   "execution_count": null,
   "id": "16989397-c2a0-4b76-84ed-28f972c87f1a",
   "metadata": {},
   "outputs": [],
   "source": []
  },
  {
   "cell_type": "code",
   "execution_count": 45,
   "id": "9f40c769-29b2-42c8-8a18-4c6ce6e749ed",
   "metadata": {
    "execution": {
     "iopub.execute_input": "2023-10-04T02:12:53.744410Z",
     "iopub.status.busy": "2023-10-04T02:12:53.744410Z",
     "iopub.status.idle": "2023-10-04T02:12:53.761364Z",
     "shell.execute_reply": "2023-10-04T02:12:53.761364Z",
     "shell.execute_reply.started": "2023-10-04T02:12:53.744410Z"
    },
    "tags": []
   },
   "outputs": [
    {
     "name": "stdout",
     "output_type": "stream",
     "text": [
      "['[CLS]', '▁The', '▁sample', '▁was', '▁heated', '▁at', '▁150', '–', '400', '▁°', 'C', '[SEP]']\n",
      "['[CLS]', '▁The', '▁sample', '▁was', '▁heated', '▁at', '▁150', '–', '400', '▁°', 'C', '[SEP]']\n"
     ]
    }
   ],
   "source": [
    "text1 = \"The sample was heated at 150–400 °C\"\n",
    "text2 = \"The steel was heated at 150–400 °C\"\n",
    "\n",
    "text1 = \" The sample was heated at 150–400 °C\"\n",
    "text2 = \"The sample was heated at 150–400 °C \"\n",
    "\n",
    "\n",
    "print(tokenizer.tokenize(text1, add_special_tokens=True))\n",
    "print(tokenizer.tokenize(text2, add_special_tokens=True))\n",
    "\n",
    "# output1, output2 = get_embeddings(text1), get_embeddings(text2)\n",
    "# print(output1.shape, output2.shape)"
   ]
  },
  {
   "cell_type": "code",
   "execution_count": 39,
   "id": "e649c83f-ac36-47ca-936e-fea5cab8e059",
   "metadata": {
    "execution": {
     "iopub.execute_input": "2023-10-03T11:39:48.685531Z",
     "iopub.status.busy": "2023-10-03T11:39:48.685531Z",
     "iopub.status.idle": "2023-10-03T11:39:48.698495Z",
     "shell.execute_reply": "2023-10-03T11:39:48.698495Z",
     "shell.execute_reply.started": "2023-10-03T11:39:48.685531Z"
    },
    "tags": []
   },
   "outputs": [
    {
     "name": "stdout",
     "output_type": "stream",
     "text": [
      "['[CLS]', '▁Mn', '[SEP]']\n"
     ]
    }
   ],
   "source": [
    "text2 = \"Mn\"\n",
    "print(tokenizer.tokenize(text2, add_special_tokens=True))"
   ]
  },
  {
   "cell_type": "code",
   "execution_count": null,
   "id": "690f3fd8-3ccb-4836-90a7-a84873c6f049",
   "metadata": {},
   "outputs": [],
   "source": []
  },
  {
   "cell_type": "code",
   "execution_count": null,
   "id": "a5d34094-fbfa-43f7-83f7-c51cc3fe5d84",
   "metadata": {},
   "outputs": [],
   "source": []
  },
  {
   "cell_type": "code",
   "execution_count": 17,
   "id": "c2331f5d-717b-40a2-8660-316c38f4b6c3",
   "metadata": {
    "execution": {
     "iopub.execute_input": "2023-10-03T08:50:56.849562Z",
     "iopub.status.busy": "2023-10-03T08:50:56.849562Z",
     "iopub.status.idle": "2023-10-03T08:50:56.980213Z",
     "shell.execute_reply": "2023-10-03T08:50:56.980213Z",
     "shell.execute_reply.started": "2023-10-03T08:50:56.849562Z"
    },
    "tags": []
   },
   "outputs": [
    {
     "data": {
      "text/plain": [
       "torch.Size([1, 9, 768])"
      ]
     },
     "execution_count": 17,
     "metadata": {},
     "output_type": "execute_result"
    }
   ],
   "source": [
    "text = 'I 150–400 °C MPa'\n",
    "text = 'M 150–400 °C MPa'\n",
    "\n",
    "encoded_input = tokenizer(text, padding=True, truncation=False, return_tensors=\"pt\")\n",
    "model_output = model(**encoded_input)\n",
    "model_output['last_hidden_state'].shape"
   ]
  },
  {
   "cell_type": "code",
   "execution_count": null,
   "id": "e6b8423e-5d3d-457c-b932-a9c292309cfb",
   "metadata": {},
   "outputs": [],
   "source": []
  },
  {
   "cell_type": "code",
   "execution_count": 4,
   "id": "85db27ea-8fc6-42d4-9e2b-305dd60c083e",
   "metadata": {
    "execution": {
     "iopub.execute_input": "2023-10-03T08:47:17.639773Z",
     "iopub.status.busy": "2023-10-03T08:47:17.638774Z",
     "iopub.status.idle": "2023-10-03T08:47:17.652736Z",
     "shell.execute_reply": "2023-10-03T08:47:17.651740Z",
     "shell.execute_reply.started": "2023-10-03T08:47:17.639773Z"
    },
    "tags": []
   },
   "outputs": [],
   "source": [
    "# def get_embeddings(text):\n",
    "#     encoded_input = tokenizer(\n",
    "#         text_list, padding=True, truncation=True, return_tensors=\"tf\"\n",
    "#     )\n",
    "#     encoded_input = {k: v for k, v in encoded_input.items()}\n",
    "#     model_output = model(**encoded_input)\n",
    "#     return cls_pooling(model_output)\n",
    "\n",
    "def get_embeddings(text):\n",
    "    encoded_input = tokenizer(text, padding=True, truncation=False, return_tensors=\"pt\")\n",
    "    model_output = model(**encoded_input)\n",
    "    if 'pooler_output' in model_output.keys():\n",
    "        return model_output['pooler_output']\n",
    "    else:\n",
    "        return model_output['last_hidden_state'][:,0]\n",
    "\n",
    "def cos_sim(string1, string2):\n",
    "    with torch.no_grad():    \n",
    "        output = coss(get_embeddings(string1), get_embeddings(string2))\n",
    "    return output[0]"
   ]
  },
  {
   "cell_type": "code",
   "execution_count": null,
   "id": "d4b260da-5f00-46af-b724-bad00539ae93",
   "metadata": {},
   "outputs": [],
   "source": []
  },
  {
   "cell_type": "code",
   "execution_count": null,
   "id": "fcad905e-2d22-4bd5-88e0-c2bd7c410c38",
   "metadata": {},
   "outputs": [],
   "source": []
  },
  {
   "cell_type": "code",
   "execution_count": 19,
   "id": "cac20857-2e8a-444f-b1d5-986aa4752649",
   "metadata": {
    "execution": {
     "iopub.execute_input": "2023-09-05T07:55:17.547645Z",
     "iopub.status.busy": "2023-09-05T07:55:17.547645Z",
     "iopub.status.idle": "2023-09-05T07:55:17.870780Z",
     "shell.execute_reply": "2023-09-05T07:55:17.870780Z",
     "shell.execute_reply.started": "2023-09-05T07:55:17.547645Z"
    },
    "tags": []
   },
   "outputs": [
    {
     "data": {
      "text/plain": [
       "tensor([[26.2110]], grad_fn=<CdistBackward0>)"
      ]
     },
     "execution_count": 19,
     "metadata": {},
     "output_type": "execute_result"
    }
   ],
   "source": [
    "a = get_embeddings('10') - get_embeddings('20')\n",
    "b = get_embeddings('200')\n",
    "coss(a,b)"
   ]
  },
  {
   "cell_type": "code",
   "execution_count": 20,
   "id": "c1303b8f-0d8b-4d5e-a3d3-d383a0ea8c2a",
   "metadata": {
    "execution": {
     "iopub.execute_input": "2023-09-05T07:55:30.751804Z",
     "iopub.status.busy": "2023-09-05T07:55:30.751804Z",
     "iopub.status.idle": "2023-09-05T07:55:31.037042Z",
     "shell.execute_reply": "2023-09-05T07:55:31.037042Z",
     "shell.execute_reply.started": "2023-09-05T07:55:30.751804Z"
    },
    "tags": []
   },
   "outputs": [
    {
     "data": {
      "text/plain": [
       "tensor([[27.4844]], grad_fn=<CdistBackward0>)"
      ]
     },
     "execution_count": 20,
     "metadata": {},
     "output_type": "execute_result"
    }
   ],
   "source": [
    "a = get_embeddings('800') - get_embeddings('600')\n",
    "b = get_embeddings('200')\n",
    "coss(a,b)"
   ]
  },
  {
   "cell_type": "code",
   "execution_count": null,
   "id": "90c0ac82-2ff9-4070-9894-a91808511a5d",
   "metadata": {},
   "outputs": [],
   "source": []
  },
  {
   "cell_type": "code",
   "execution_count": 30,
   "id": "dfaba921-3280-4238-aea4-d0f3b13f909e",
   "metadata": {
    "execution": {
     "iopub.execute_input": "2023-09-05T11:16:04.887903Z",
     "iopub.status.busy": "2023-09-05T11:16:04.886906Z",
     "iopub.status.idle": "2023-09-05T11:16:05.093352Z",
     "shell.execute_reply": "2023-09-05T11:16:05.093352Z",
     "shell.execute_reply.started": "2023-09-05T11:16:04.887903Z"
    },
    "tags": []
   },
   "outputs": [
    {
     "data": {
      "text/plain": [
       "tensor([0.4510])"
      ]
     },
     "execution_count": 30,
     "metadata": {},
     "output_type": "execute_result"
    }
   ],
   "source": [
    "cos_sim('100', '200')"
   ]
  },
  {
   "cell_type": "code",
   "execution_count": 31,
   "id": "953a7942-12d6-433d-936f-70e4ac4dfc8d",
   "metadata": {
    "execution": {
     "iopub.execute_input": "2023-09-05T11:16:05.094350Z",
     "iopub.status.busy": "2023-09-05T11:16:05.094350Z",
     "iopub.status.idle": "2023-09-05T11:16:05.307780Z",
     "shell.execute_reply": "2023-09-05T11:16:05.307780Z",
     "shell.execute_reply.started": "2023-09-05T11:16:05.094350Z"
    },
    "tags": []
   },
   "outputs": [
    {
     "data": {
      "text/plain": [
       "tensor([0.1677])"
      ]
     },
     "execution_count": 31,
     "metadata": {},
     "output_type": "execute_result"
    }
   ],
   "source": [
    "cos_sim('400', '300')"
   ]
  },
  {
   "cell_type": "code",
   "execution_count": 23,
   "id": "36c39543-b7b6-401c-bc43-d2d4a7253d96",
   "metadata": {
    "execution": {
     "iopub.execute_input": "2023-09-05T07:57:58.312125Z",
     "iopub.status.busy": "2023-09-05T07:57:58.311128Z",
     "iopub.status.idle": "2023-09-05T07:58:00.057458Z",
     "shell.execute_reply": "2023-09-05T07:58:00.057458Z",
     "shell.execute_reply.started": "2023-09-05T07:57:58.312125Z"
    },
    "tags": []
   },
   "outputs": [
    {
     "name": "stdout",
     "output_type": "stream",
     "text": [
      "tensor([12.5964])\n",
      "tensor([13.4804])\n",
      "tensor([12.5896])\n",
      "tensor([13.5851])\n",
      "tensor([15.8004])\n",
      "tensor([13.7600])\n",
      "tensor([14.0959])\n",
      "tensor([15.1334])\n",
      "tensor([15.9370])\n"
     ]
    }
   ],
   "source": [
    "for i in range(100, 1000, 100):\n",
    "    print(cos_sim(str(i), str(i-20)))"
   ]
  },
  {
   "cell_type": "code",
   "execution_count": null,
   "id": "369237ad-4005-47ff-8425-9ffd01d9b91b",
   "metadata": {},
   "outputs": [],
   "source": []
  },
  {
   "cell_type": "code",
   "execution_count": null,
   "id": "0db90f7a-91ca-4e59-8e7b-fa61c99edadf",
   "metadata": {},
   "outputs": [],
   "source": [
    "from sklearn.decomposition import PCA\n",
    "\n",
    "def dr_pca(data, n_components=2, seed=666):\n",
    "    u = PCA(n_components=n_components, random_state=seed).fit_transform(data)\n",
    "    return u"
   ]
  },
  {
   "cell_type": "code",
   "execution_count": null,
   "id": "7269d539-ec23-4d2d-a5d4-7501af0111e6",
   "metadata": {},
   "outputs": [],
   "source": []
  },
  {
   "cell_type": "code",
   "execution_count": null,
   "id": "a5fac328-9e5d-49eb-95f5-77e2926f8660",
   "metadata": {},
   "outputs": [],
   "source": []
  },
  {
   "cell_type": "code",
   "execution_count": 16,
   "id": "b87100d1-b063-4476-b8c5-83b77b353963",
   "metadata": {
    "execution": {
     "iopub.execute_input": "2023-09-05T07:49:07.381588Z",
     "iopub.status.busy": "2023-09-05T07:49:07.381588Z",
     "iopub.status.idle": "2023-09-05T07:49:07.765561Z",
     "shell.execute_reply": "2023-09-05T07:49:07.765561Z",
     "shell.execute_reply.started": "2023-09-05T07:49:07.381588Z"
    },
    "tags": []
   },
   "outputs": [
    {
     "name": "stdout",
     "output_type": "stream",
     "text": [
      "tensor([12.6399])\n",
      "tensor([11.7883])\n"
     ]
    }
   ],
   "source": [
    "print(cos_sim('1400', '1600'))\n",
    "print(cos_sim('1000', '1200'))"
   ]
  },
  {
   "cell_type": "code",
   "execution_count": null,
   "id": "5f62d404-ac2a-4206-b7d5-f66dca193271",
   "metadata": {},
   "outputs": [],
   "source": []
  },
  {
   "cell_type": "code",
   "execution_count": 14,
   "id": "f23c024d-5d63-4e92-9046-f2f89e630b9b",
   "metadata": {
    "execution": {
     "iopub.execute_input": "2023-09-05T07:48:50.337520Z",
     "iopub.status.busy": "2023-09-05T07:48:50.337520Z",
     "iopub.status.idle": "2023-09-05T07:48:50.702543Z",
     "shell.execute_reply": "2023-09-05T07:48:50.702543Z",
     "shell.execute_reply.started": "2023-09-05T07:48:50.337520Z"
    },
    "tags": []
   },
   "outputs": [
    {
     "name": "stdout",
     "output_type": "stream",
     "text": [
      "tensor([11.8488])\n",
      "tensor([10.9926])\n"
     ]
    }
   ],
   "source": [
    "print(cos_sim('1100', '1300'))\n",
    "print(cos_sim('800', '600'))"
   ]
  },
  {
   "cell_type": "code",
   "execution_count": null,
   "id": "1b539974-237a-42bd-b246-9d128794ef4c",
   "metadata": {},
   "outputs": [],
   "source": []
  },
  {
   "cell_type": "code",
   "execution_count": 13,
   "id": "44d365a4-a1e4-4d53-8eb0-5a5d1440e63d",
   "metadata": {
    "execution": {
     "iopub.execute_input": "2023-09-05T07:48:45.568177Z",
     "iopub.status.busy": "2023-09-05T07:48:45.568177Z",
     "iopub.status.idle": "2023-09-05T07:48:45.936192Z",
     "shell.execute_reply": "2023-09-05T07:48:45.936192Z",
     "shell.execute_reply.started": "2023-09-05T07:48:45.568177Z"
    },
    "tags": []
   },
   "outputs": [
    {
     "name": "stdout",
     "output_type": "stream",
     "text": [
      "tensor([10.8315])\n",
      "tensor([10.7940])\n"
     ]
    }
   ],
   "source": [
    "print(cos_sim('500', '300'))\n",
    "print(cos_sim('900', '700'))"
   ]
  },
  {
   "cell_type": "code",
   "execution_count": null,
   "id": "7ca21431-c803-4b9c-9c01-ed288aaf4a9e",
   "metadata": {},
   "outputs": [],
   "source": []
  },
  {
   "cell_type": "code",
   "execution_count": null,
   "id": "4d41c406-0f80-4d31-afa9-3148ffcb8b90",
   "metadata": {},
   "outputs": [],
   "source": []
  },
  {
   "cell_type": "code",
   "execution_count": null,
   "id": "7edd205a-5538-4fbb-8248-dbd2cec15a8b",
   "metadata": {},
   "outputs": [],
   "source": []
  },
  {
   "cell_type": "code",
   "execution_count": null,
   "id": "56c71421-4641-4919-b817-d7009203d566",
   "metadata": {},
   "outputs": [],
   "source": []
  },
  {
   "cell_type": "code",
   "execution_count": 8,
   "id": "1afe5078-949d-4d4b-8e19-06cb9d59d0c0",
   "metadata": {
    "execution": {
     "iopub.execute_input": "2023-09-04T03:53:50.786247Z",
     "iopub.status.busy": "2023-09-04T03:53:50.786247Z",
     "iopub.status.idle": "2023-09-04T03:53:51.200139Z",
     "shell.execute_reply": "2023-09-04T03:53:51.200139Z",
     "shell.execute_reply.started": "2023-09-04T03:53:50.786247Z"
    }
   },
   "outputs": [
    {
     "data": {
      "text/plain": [
       "tensor([[15.1015]], grad_fn=<CdistBackward0>)"
      ]
     },
     "execution_count": 8,
     "metadata": {},
     "output_type": "execute_result"
    }
   ],
   "source": [
    "a = get_embeddings('600') - get_embeddings('400')\n",
    "b = get_embeddings('500') - get_embeddings('300')\n",
    "coss(a,b)"
   ]
  },
  {
   "cell_type": "code",
   "execution_count": null,
   "id": "ca4291e1-fb65-4269-be9b-083eab0d1eec",
   "metadata": {},
   "outputs": [],
   "source": []
  },
  {
   "cell_type": "code",
   "execution_count": null,
   "id": "e1ef632d-dcbf-4458-a3f6-f57b5bd09fb3",
   "metadata": {},
   "outputs": [],
   "source": []
  },
  {
   "cell_type": "code",
   "execution_count": null,
   "id": "54097215-e631-461f-b781-610ad4a06b58",
   "metadata": {},
   "outputs": [],
   "source": []
  },
  {
   "cell_type": "code",
   "execution_count": null,
   "id": "a2874e56-1a5f-4619-be75-43df67f336d1",
   "metadata": {},
   "outputs": [],
   "source": []
  },
  {
   "cell_type": "code",
   "execution_count": 6,
   "id": "6e803ecd-ac95-4972-b7f2-7d9f5b56bf6c",
   "metadata": {
    "execution": {
     "iopub.execute_input": "2023-08-28T07:44:25.423699Z",
     "iopub.status.busy": "2023-08-28T07:44:25.422703Z",
     "iopub.status.idle": "2023-08-28T07:44:26.033070Z",
     "shell.execute_reply": "2023-08-28T07:44:26.032073Z",
     "shell.execute_reply.started": "2023-08-28T07:44:25.423699Z"
    },
    "tags": []
   },
   "outputs": [
    {
     "name": "stdout",
     "output_type": "stream",
     "text": [
      "tensor([11.7146])\n",
      "tensor([11.2823])\n",
      "tensor([14.4995])\n"
     ]
    }
   ],
   "source": [
    "print(cos_sim('10000', '12000'))\n",
    "print(cos_sim('1000', '1200'))\n",
    "print(cos_sim('100', '120'))"
   ]
  },
  {
   "cell_type": "code",
   "execution_count": 7,
   "id": "c3508aed-31dd-4ead-96ce-2ad5b69cbef0",
   "metadata": {
    "execution": {
     "iopub.execute_input": "2023-08-28T07:44:26.976548Z",
     "iopub.status.busy": "2023-08-28T07:44:26.976548Z",
     "iopub.status.idle": "2023-08-28T07:44:27.396426Z",
     "shell.execute_reply": "2023-08-28T07:44:27.395428Z",
     "shell.execute_reply.started": "2023-08-28T07:44:26.976548Z"
    },
    "tags": []
   },
   "outputs": [
    {
     "name": "stdout",
     "output_type": "stream",
     "text": [
      "tensor([16.9365])\n",
      "tensor([18.8416])\n"
     ]
    }
   ],
   "source": [
    "print(cos_sim('Female', 'male'))\n",
    "print(cos_sim('King', 'Queen'))"
   ]
  },
  {
   "cell_type": "code",
   "execution_count": 8,
   "id": "44edd60f-b20a-47a4-9151-bb8051ee53c5",
   "metadata": {
    "execution": {
     "iopub.execute_input": "2023-08-28T07:44:28.372815Z",
     "iopub.status.busy": "2023-08-28T07:44:28.371818Z",
     "iopub.status.idle": "2023-08-28T07:44:28.743824Z",
     "shell.execute_reply": "2023-08-28T07:44:28.743824Z",
     "shell.execute_reply.started": "2023-08-28T07:44:28.372815Z"
    },
    "tags": []
   },
   "outputs": [
    {
     "name": "stdout",
     "output_type": "stream",
     "text": [
      "tensor([18.5271])\n",
      "tensor([19.5418])\n"
     ]
    }
   ],
   "source": [
    "print(cos_sim('Fe', 'Iron'))\n",
    "print(cos_sim('O', 'Oxgen'))"
   ]
  },
  {
   "cell_type": "code",
   "execution_count": null,
   "id": "0bab4237-d81d-41aa-a96c-3cb33950b398",
   "metadata": {},
   "outputs": [],
   "source": []
  },
  {
   "cell_type": "code",
   "execution_count": 295,
   "id": "e6e8aed9-f533-462c-90ed-4aafdb6c1cb2",
   "metadata": {
    "execution": {
     "iopub.execute_input": "2023-08-23T01:11:07.500482Z",
     "iopub.status.busy": "2023-08-23T01:11:07.500482Z",
     "iopub.status.idle": "2023-08-23T01:11:07.515441Z",
     "shell.execute_reply": "2023-08-23T01:11:07.515441Z",
     "shell.execute_reply.started": "2023-08-23T01:11:07.500482Z"
    },
    "tags": []
   },
   "outputs": [],
   "source": [
    "# text = '1234464616'\n",
    "# encoded_input = tokenizer(text, padding=True, truncation=True, return_tensors=\"pt\")\n",
    "# pooled = model(**encoded_input)\n",
    "# # model_output['last_hidden_state'][:,0].shape"
   ]
  },
  {
   "cell_type": "code",
   "execution_count": 296,
   "id": "53a0319c-0b0e-4161-a16b-f6ae3c2be654",
   "metadata": {
    "execution": {
     "iopub.execute_input": "2023-08-23T01:11:07.516439Z",
     "iopub.status.busy": "2023-08-23T01:11:07.516439Z",
     "iopub.status.idle": "2023-08-23T01:11:07.530401Z",
     "shell.execute_reply": "2023-08-23T01:11:07.530401Z",
     "shell.execute_reply.started": "2023-08-23T01:11:07.516439Z"
    },
    "tags": []
   },
   "outputs": [],
   "source": [
    "# 'pooler_output' in pooled.keys()"
   ]
  },
  {
   "cell_type": "code",
   "execution_count": 297,
   "id": "12c5ad4f-73c2-441b-8d40-7950ebcfb04a",
   "metadata": {
    "execution": {
     "iopub.execute_input": "2023-08-23T01:11:07.531399Z",
     "iopub.status.busy": "2023-08-23T01:11:07.531399Z",
     "iopub.status.idle": "2023-08-23T01:11:07.545361Z",
     "shell.execute_reply": "2023-08-23T01:11:07.545361Z",
     "shell.execute_reply.started": "2023-08-23T01:11:07.531399Z"
    },
    "tags": []
   },
   "outputs": [],
   "source": [
    "# get_embeddings('ferromagnetic')-get_embeddings('NiFe')+get_embeddings('IrMn')-get_embeddings('antiferromagnetic')"
   ]
  },
  {
   "cell_type": "code",
   "execution_count": 9,
   "id": "e2af55b0-e6bd-4535-8683-b6e77499a6ad",
   "metadata": {
    "execution": {
     "iopub.execute_input": "2023-08-28T07:44:36.382405Z",
     "iopub.status.busy": "2023-08-28T07:44:36.382405Z",
     "iopub.status.idle": "2023-08-28T07:44:36.781338Z",
     "shell.execute_reply": "2023-08-28T07:44:36.780341Z",
     "shell.execute_reply.started": "2023-08-28T07:44:36.382405Z"
    },
    "tags": []
   },
   "outputs": [
    {
     "data": {
      "text/plain": [
       "tensor([[17.6811]], grad_fn=<CdistBackward0>)"
      ]
     },
     "execution_count": 9,
     "metadata": {},
     "output_type": "execute_result"
    }
   ],
   "source": [
    "coss(get_embeddings('ferromagnetic')-get_embeddings('NiFe')+get_embeddings('IrMn'),get_embeddings('antiferromagnetic')) "
   ]
  },
  {
   "cell_type": "code",
   "execution_count": 299,
   "id": "fd8138e4-2c5c-4803-8bf6-fff1a424451d",
   "metadata": {
    "execution": {
     "iopub.execute_input": "2023-08-23T01:11:07.947387Z",
     "iopub.status.busy": "2023-08-23T01:11:07.946390Z",
     "iopub.status.idle": "2023-08-23T01:11:07.961353Z",
     "shell.execute_reply": "2023-08-23T01:11:07.961353Z",
     "shell.execute_reply.started": "2023-08-23T01:11:07.947387Z"
    },
    "tags": []
   },
   "outputs": [],
   "source": [
    "# Zr − ZrO2 ≈ Cr − Cr2O3 ≈ Ni − NiO) and ‘structure of ’ (Zr − HCP ≈ Cr − BCC ≈ Ni − FCC)"
   ]
  }
 ],
 "metadata": {
  "kernelspec": {
   "display_name": "automl",
   "language": "python",
   "name": "automl"
  },
  "language_info": {
   "codemirror_mode": {
    "name": "ipython",
    "version": 3
   },
   "file_extension": ".py",
   "mimetype": "text/x-python",
   "name": "python",
   "nbconvert_exporter": "python",
   "pygments_lexer": "ipython3",
   "version": "3.9.15"
  }
 },
 "nbformat": 4,
 "nbformat_minor": 5
}
