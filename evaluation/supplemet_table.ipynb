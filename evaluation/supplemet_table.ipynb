{
 "cells": [
  {
   "cell_type": "code",
   "execution_count": 1,
   "metadata": {},
   "outputs": [],
   "source": [
    "import pandas as pd"
   ]
  },
  {
   "cell_type": "code",
   "execution_count": 2,
   "metadata": {},
   "outputs": [
    {
     "data": {
      "text/html": [
       "<div>\n",
       "<style scoped>\n",
       "    .dataframe tbody tr th:only-of-type {\n",
       "        vertical-align: middle;\n",
       "    }\n",
       "\n",
       "    .dataframe tbody tr th {\n",
       "        vertical-align: top;\n",
       "    }\n",
       "\n",
       "    .dataframe thead th {\n",
       "        text-align: right;\n",
       "    }\n",
       "</style>\n",
       "<table border=\"1\" class=\"dataframe\">\n",
       "  <thead>\n",
       "    <tr style=\"text-align: right;\">\n",
       "      <th></th>\n",
       "      <th>text</th>\n",
       "      <th>x</th>\n",
       "      <th>y</th>\n",
       "      <th>new_label</th>\n",
       "    </tr>\n",
       "  </thead>\n",
       "  <tbody>\n",
       "    <tr>\n",
       "      <th>0</th>\n",
       "      <td>cyclic voltammetry</td>\n",
       "      <td>6.50907</td>\n",
       "      <td>6.96041</td>\n",
       "      <td>2.0</td>\n",
       "    </tr>\n",
       "    <tr>\n",
       "      <th>1</th>\n",
       "      <td>x-ray diffraction</td>\n",
       "      <td>6.36556</td>\n",
       "      <td>7.02046</td>\n",
       "      <td>2.0</td>\n",
       "    </tr>\n",
       "    <tr>\n",
       "      <th>2</th>\n",
       "      <td>electrochemical impedance spectroscopy</td>\n",
       "      <td>6.38328</td>\n",
       "      <td>7.04994</td>\n",
       "      <td>2.0</td>\n",
       "    </tr>\n",
       "    <tr>\n",
       "      <th>3</th>\n",
       "      <td>scanning electron microscopy</td>\n",
       "      <td>6.44289</td>\n",
       "      <td>6.92370</td>\n",
       "      <td>2.0</td>\n",
       "    </tr>\n",
       "    <tr>\n",
       "      <th>4</th>\n",
       "      <td>post weld heat treatment</td>\n",
       "      <td>6.54252</td>\n",
       "      <td>6.85062</td>\n",
       "      <td>2.0</td>\n",
       "    </tr>\n",
       "  </tbody>\n",
       "</table>\n",
       "</div>"
      ],
      "text/plain": [
       "                                     text        x        y  new_label\n",
       "0                      cyclic voltammetry  6.50907  6.96041        2.0\n",
       "1                       x-ray diffraction  6.36556  7.02046        2.0\n",
       "2  electrochemical impedance spectroscopy  6.38328  7.04994        2.0\n",
       "3            scanning electron microscopy  6.44289  6.92370        2.0\n",
       "4                post weld heat treatment  6.54252  6.85062        2.0"
      ]
     },
     "execution_count": 2,
     "metadata": {},
     "output_type": "execute_result"
    }
   ],
   "source": [
    "df = pd.read_excel('./final_output.xlsx')\n",
    "df.head()"
   ]
  },
  {
   "cell_type": "code",
   "execution_count": 8,
   "metadata": {},
   "outputs": [
    {
     "name": "stdout",
     "output_type": "stream",
     "text": [
      "0\n",
      "\n",
      "1\n",
      "\n",
      "2\n",
      ", cyclic voltammetry, x-ray diffraction, electrochemical impedance spectroscopy, scanning electron microscopy, post weld heat treatment, differential scanning calorimetry, thermogravimetric analysis, x-ray diffraction xrd analyses, electrochemical impedance spectroscopy eis tests, x-ray diffraction xrd measurements, x-ray photoelectron spectroscopy xps, electrochemical impedance spectroscopy eis measurements, x-ray diffraction xrd experiments, room temperature fig, atom probe tomography apt, transmission electron microscopy tem studies, transmission electron microscopy tem, electrochemical impedance spectroscopy eis measurement, x-ray diffraction xrd analysis, electron backscattered diffraction ebsd\n",
      "3\n",
      ", charpy v - notch impact tests, tem observations, tem analysis, apt experiments, xrd tests, apt measurements, fcg tests, lsp experiments, pbs solution, charpy tests, three - point bending tests, tem studies, xps analysis, xrd analyses, apt analyses, charpy impact test, ebsd analysis, vickers hardness tests, tensile - shear tests, dl - epr test, charpy impact tests, scc tests, lcf tests, raman spectroscopy, xrd measurements, apt analysis, ssrt tests, xrd measurement, xrd experiments, ebsd measurements, dilatometric measurements, ebsd measurement, eis measurements, dl - epr tests, ebsd scans, ebsd scanning, low cycle fatigue tests, xrd analysis, dilatometric tests, tem observation, eis tests, dsc experiments, xps analyses, xps measurements, room - temperature tensile tests, low - cycle fatigue tests\n",
      "4\n",
      ", ion-milled, ion milling process, neutron irradiation, proton irradiation, irradiation experiments, ion irradiations, ion milling, ion implantation, ion irradiation, electron transparency, electron irradiation\n",
      "5\n",
      ", anhydrous ethanol, bi-distilled water, pure water, deionised water, millipore water, double distilled water, milli - q water, ultrapure water, double - distilled water, bidistilled water, triply distilled water, ultra-pure water, high purity water, distilled water, absolute ethanol, ultra pure water, demineralized water, absolute ethyl alcohol, sterile distilled water, de-ionized water, ethyl alcohol, de-ionised water, isopropyl alcohol, deionized water, sterilized water, doubly distilled water\n",
      "6\n",
      ", polarization experiments, impedance measurements, cathodic hydrogen charging, polarization test, potentiodynamic measurements, anodic polarization, potentiodynamic scans, electrochemical impedance measurements, electrochemical polarization tests, potentiodynamic polarization test, electrochemical experiments, electrochemical tests, cathodic polarization, potentiodynamic polarization measurements, electrochemical testing, electrochemical experiment, potentiodynamic polarisation tests, polarization measurements, potentiodynamic polarization, hydrogen charging, potentiostatic polarization test, anodic polarization tests, potentiodynamic polarization experiments, potentiodynamic tests, potentiostatic tests, electrochemical hydrogen charging, potentiostatic polarizations, potentiostatic test, potentiodynamic polarization tests, polarization tests, electrochemical test, potentiostatic experiments, electrochemical measurements, potentiostatic polarization, electrochemical measurement, cyclic voltammetry, magnetic measurements, potentiodynamic polarization measurement, electrochemical impedance spectroscopy measurements, potentiodynamic polarization studies\n",
      "7\n",
      ", induction-brazed, wire-percussion-welded, fusion-welded, brazing, groove-welded, spot-welded, lap-welded, weld, resistance-welded, spot-welding, deposition process, welding experiment, friction stir welding, brazing experiments, welded joints, welding operations, laser treatment, laser surface alloying, laser cutting, brazing process, laser processing, resistance spot welding, spot welding, welding experiments, laser welding, welding process, welding trials, weld metal, laser cladding\n",
      "8\n",
      ", tempered, soaking , normalized , melted , aging , austenizing, normalize, homogenization, premelted, quenching, overaging, pre-melted, warm-forged, vacuum-annealed, aged, reheat, exposure, die-quenching, reaustenitised, self-tempered, temper-rolled, soft-annealing, bainitising, cross-rolled, re-rolled, solutionised, overageing, rough-rolled, intermediate-quenching, overtempered, normalising, melt-quenching, heating, cooling, melting, solidified, solutionized, autotempering, step-quenched, recrystallization, double-tempered, carburized, soak, co-heated, watercooled, mill-annealed, bright-annealing, reversion-annealed, die-quenched, heated, solution-annealed, austenised, hyperquenched, steam-quenched, solid-solution-treated, semi-annealing, reheating, semi-melted, hot-rolled, pre-quenched, cool-rolled, cryotreated, partitioning, austenitizied, preaustenitized, pit-treated, batch-annealed, melt, presoaking, pre-heated, austempering, unsm-treated, peak-aging, well-homogenized, first-annealed, forgeding, press-forged, re-forging, pretreated, carbonitrided, rough-machined, furnace-heating, post-heating, vacuum-sealed, sandblast-treated, vacuum-processed, hot-roll-bonding, roll-bonded, roll-bonding, electrodepositing, plasma-nitrided, austenitezed, flame-hardened, pre-tempering, argon-cooling, pre-nitrided, micro-alloyed, bake-hardening, freezing, heat-sealed, solid-solutioned, rolling, calcined, pre-soaked, nitrogenized, prebaking, baking, prebaked, cold-swaged, oven-drying, degassing, degreasing, preoxidized, degassed, solidifying, hardening, preheating, overheated, homogenize, rolled, casting, pre-forging, sintered, low-rolled, finish-rolled, cryorolling, re-crystallizing, post-aged, over-heating, homogenised, bright-annealed, carbonitriding, smelting, superheated, sinterhardening, hot-dipping, overheating, over-carburizing, forged, self-tempering, nitriding-treated, cryogenic-rolled, recrystalised, re-aged, groove-rolled, forging, induction-hardened, groove-rolling, ion-nitrided, presoaked, vacuum-drying, hydrotreated, smelt, re-solidify, cold-forged, recrystallized, shape-rolled, vacuum-sintered, re-austenitisized, solutionising, surface-oxidized, thixoforged, oxynitrocarburized, ingot-casted, pre-aged, warm-rolled, sinter-hardening, drop-casting, vacuum-dried, hot-pressing, hot-compacted, dry-sintered, co-sintered, calcining, sinterized, hot-compressed, solution heat treatment, normalizing treatment, subsequent quenching, immediate water quenching, aging treatment, nitriding treatments, surface cleaning, isothermal annealing, rapid cooling, diffusion annealing, cold rolling, deep cryogenic treatment, hot rolling, air drying, steel samples, water quenching, recrystallization annealing, rolling process, shot peening, plasma nitriding, free cooling, direct quenching, final thinning, ultrasonic cleaning, final polish, cloth polishing, bristle brush, isothermal aging, surface grinding, sand blasting, copious amount, solution treatment, thermal treatment, controlled rolling, homogenization heat treatment, thermal treatments, oil quenching, furnace cooling, hot forging, thermal aging, coiling temperature, plasma nitriding treatment, whole process, cryogenic treatment, coated samples, rough rolling, thermal annealing, acetone degreasing, reversion annealing, heat treatment, immediate quenching, hot extrusion, grinding operation, continuous cooling, different heat treatments, isothermal holding, rapid quenching, colloidal silica, surface treatment, warm rolling\n",
      "9\n",
      ", depth profiling, microstructural observation, sample preparation, phase identification, chemical analysis, microstructural examination, metallographic analysis, metallographic examination, elemental analysis, thermal analysis, microstructural examinations, phase analysis, microstructural analysis, microstructural observations, microstructure analysis, microstructure observation, metallographic preparation, chemical analyses, metallographic observation\n",
      "10\n",
      ", reciprocating sliding tests, dry sliding wear tests, wear testing, dry sliding tests, tribological tests, wear tests, erosion tests, sliding tests, tribocorrosion tests, friction tests, sliding wear tests, tribological experiments, cavitation erosion tests, wear test, wear experiments\n",
      "11\n",
      ", leaching experiments, salt spray tests, salt spray test, corrosion experiments, oxidation experiments, corrosion studies, oxidation tests, corrosion test, corrosion testing, corrosion tests, static corrosion tests, weight loss measurements, weight loss tests, exposure experiments, corrosion measurements, immersion tests, immersion test, immersion experiments, oxidation test\n",
      "12\n",
      ", fatigue precracking, corrosion fatigue tests, cyclic tests, rotating bending fatigue tests, fatigue test, fatigue tests, low cycle fatigue tests, fatigue pre-cracking, fatigue testing, thermal fatigue tests, fatigue experiments\n",
      "13\n",
      ", standard tensile test, torsion tests, hot compression tests, shear tests, uniaxial tension tests, dynamic tensile tests, tensile deformation, uniaxial tension, tensile specimens, tensile testing, tensile coupon test, interrupted tensile tests, standard tensile tests, tensile test, creep testing, high temperature tensile tests, uniaxial creep tests, static tensile tests, quasi-static tensile tests, isothermal hot compression tests, static tensile test, hot deformation tests, tensile experiments, coupon tests, tensile tests, quasi-static uniaxial tensile tests, fracture tests, tensile shear tests, tension tests, uniaxial compression tests, impact testing, creep test, uniaxial hot compression tests, tensile coupon tests, hot tensile tests, tensile samples, uniaxial tensile tests, compression tests, monotonic tensile tests, uniaxial tensile test, compression test, uniaxial tension test, uniaxial tensile testing\n",
      "14\n",
      "\n",
      "15\n",
      "\n",
      "16\n",
      "\n",
      "17\n",
      "\n",
      "18\n",
      "\n",
      "19\n",
      "\n"
     ]
    }
   ],
   "source": [
    "for label in range(20):\n",
    "    print(label)\n",
    "    temp_li = ''\n",
    "    for i in range(len(df)):\n",
    "        if label==df.iloc[i, -1]:\n",
    "            temp_li = temp_li + ', ' + df.iloc[i, 0]\n",
    "    print(temp_li)\n"
   ]
  },
  {
   "cell_type": "code",
   "execution_count": null,
   "metadata": {},
   "outputs": [],
   "source": []
  },
  {
   "cell_type": "code",
   "execution_count": null,
   "metadata": {},
   "outputs": [],
   "source": []
  },
  {
   "cell_type": "code",
   "execution_count": null,
   "metadata": {},
   "outputs": [],
   "source": []
  }
 ],
 "metadata": {
  "kernelspec": {
   "display_name": "automl",
   "language": "python",
   "name": "python3"
  },
  "language_info": {
   "codemirror_mode": {
    "name": "ipython",
    "version": 3
   },
   "file_extension": ".py",
   "mimetype": "text/x-python",
   "name": "python",
   "nbconvert_exporter": "python",
   "pygments_lexer": "ipython3",
   "version": "3.9.15"
  }
 },
 "nbformat": 4,
 "nbformat_minor": 2
}
